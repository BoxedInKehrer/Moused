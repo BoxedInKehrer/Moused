{
 "cells": [
  {
   "cell_type": "code",
   "execution_count": null,
   "metadata": {},
   "outputs": [],
   "source": [
    "import deeplabcut\n",
    "import tensorflow as tf\n",
    "import tensorrt as trt\n",
    "\n",
    "print(\"TensorFlow version:\", tf.__version__)\n",
    "print(\"CUDA version:\", tf.sysconfig.get_build_info()[\"cuda_version\"])\n",
    "print(\"cuDNN version:\", tf.sysconfig.get_build_info()[\"cudnn_version\"])\n",
    "print(\"Num GPUs Available: \", len(tf.config.list_physical_devices('GPU')))\n",
    "print(\"tensorrt version:\", trt.__version__)"
   ]
  },
  {
   "cell_type": "code",
   "execution_count": null,
   "metadata": {},
   "outputs": [],
   "source": [
    "# only using experiment ONE to see how strongly it generalizes\n",
    "deeplabcut.create_new_project('Moused_4', 'David', ['/home/box/coding/CTIR/videos/experiment_1/E1_front.avi', '/home/box/coding/CTIR/videos/experiment_1/E1_side.avi', '/home/box/coding/CTIR/videos/experiment_1/E1_top.avi',\n",
    "                                                '/home/box/coding/CTIR/videos/experiment_2/E2_front.avi','/home/box/coding/CTIR/videos/experiment_2/E2_side.avi','/home/box/coding/CTIR/videos/experiment_2/E2_top.avi'])"
   ]
  },
  {
   "cell_type": "code",
   "execution_count": null,
   "metadata": {},
   "outputs": [],
   "source": [
    "config_path = '/home/box/coding/CTIR/Moused_2-David-2024-07-05/config.yaml'"
   ]
  },
  {
   "cell_type": "code",
   "execution_count": null,
   "metadata": {},
   "outputs": [],
   "source": [
    "config_path = '/home/box/coding/CTIR/Moused_4-David-2024-07-10/config.yaml'\n"
   ]
  },
  {
   "cell_type": "code",
   "execution_count": null,
   "metadata": {},
   "outputs": [],
   "source": [
    "deeplabcut.extract_frames(config_path, algo='uniform', userfeedback=False)"
   ]
  },
  {
   "cell_type": "code",
   "execution_count": null,
   "metadata": {},
   "outputs": [],
   "source": [
    "deeplabcut.convertcsv2h5('/home/box/coding/CTIR/Moused_4-David-2024-07-10/config.yaml', scorer= 'David')"
   ]
  },
  {
   "cell_type": "code",
   "execution_count": null,
   "metadata": {},
   "outputs": [],
   "source": [
    "deeplabcut.label_frames(config_path)"
   ]
  },
  {
   "cell_type": "code",
   "execution_count": null,
   "metadata": {},
   "outputs": [],
   "source": [
    "deeplabcut.check_labels(config_path)"
   ]
  },
  {
   "cell_type": "code",
   "execution_count": null,
   "metadata": {},
   "outputs": [],
   "source": [
    "# There are many more functions you can set here, including which network to use. Check the docstring for full options you can do!\n",
    "deeplabcut.create_training_dataset(config_path, num_shuffles=1, net_type='resnet_101', augmenter_type='imgaug')"
   ]
  },
  {
   "cell_type": "code",
   "execution_count": null,
   "metadata": {},
   "outputs": [],
   "source": [
    "import tensorflow as tf\n",
    "from tensorflow.compat.v1 import ConfigProto\n",
    "from tensorflow.compat.v1 import InteractiveSession\n",
    "\n",
    "config = ConfigProto()\n",
    "config.gpu_options.allow_growth = True\n",
    "session = InteractiveSession(config=config)\n"
   ]
  },
  {
   "cell_type": "code",
   "execution_count": null,
   "metadata": {},
   "outputs": [],
   "source": [
    "trainposeconfigfile"
   ]
  },
  {
   "cell_type": "code",
   "execution_count": null,
   "metadata": {},
   "outputs": [],
   "source": [
    "import deeplabcut\n",
    "config_path = '/home/box/coding/CTIR/Moused_4-David-2024-07-10/config.yaml'\n",
    "shuffle = 1\n",
    "trainingsetindex = 0\n",
    "\n",
    "trainposeconfigfile, testposeconfigfile, snapshotfolder = deeplabcut.return_train_network_path(config_path, shuffle=shuffle, trainingsetindex=trainingsetindex)\n",
    "\n",
    "cfg_dlc = deeplabcut.auxiliaryfunctions.read_plainconfig(trainposeconfigfile)\n",
    "\n",
    "# Updating configuration parameters\n",
    "cfg_dlc['scale_jitter_lo'] = 0.7\n",
    "cfg_dlc['scale_jitter_up'] = 1.5\n",
    "cfg_dlc['augmentationprobability'] = 0.7\n",
    "cfg_dlc['batch_size'] = 2  # Adjust batch size based on your GPU memory\n",
    "cfg_dlc['elastic_transform'] = True\n",
    "cfg_dlc['rotation'] = 180\n",
    "cfg_dlc['covering'] = True\n",
    "cfg_dlc['motion_blur'] = True\n",
    "cfg_dlc['optimizer'] = \"adam\"\n",
    "cfg_dlc['dataset_type'] = 'imgaug'\n",
    "cfg_dlc['lr_init'] = 0.0001  # Adjust this value if needed\n",
    "\n",
    "cfg_dlc['display_iters'] = 100\n",
    "cfg_dlc['save_iters'] = 2000\n",
    "cfg_dlc['max_iters'] = 100000\n",
    "\n",
    "cfg_dlc['multi_step'] = [[0.0001, 5000], [0.0005, 10000]]\n",
    "\n",
    "# Remove conflicting multi_step configuration\n",
    "\n",
    "deeplabcut.auxiliaryfunctions.write_plainconfig(trainposeconfigfile, cfg_dlc)\n",
    "\n",
    "deeplabcut.train_network(config_path, shuffle=shuffle, trainingsetindex=trainingsetindex)"
   ]
  },
  {
   "cell_type": "code",
   "execution_count": null,
   "metadata": {},
   "outputs": [],
   "source": [
    "deeplabcut.evaluate_network(config_path,plotting=True)"
   ]
  },
  {
   "cell_type": "code",
   "execution_count": null,
   "metadata": {},
   "outputs": [],
   "source": [
    "video_path = '/home/box/coding/CTIR/videos/experiment_1/E1_top.avi'\n",
    "video_paths = ['/home/box/coding/CTIR/videos/experiment_1/E1_side.avi','/home/box/coding/CTIR/videos/experiment_1/E1_front.avi','/home/box/coding/CTIR/videos/experiment_1/E1_top.avi',\n",
    "               '/home/box/coding/CTIR/videos/experiment_2/E2_side.avi','/home/box/coding/CTIR/videos/experiment_2/E2_front.avi','/home/box/coding/CTIR/videos/experiment_2/E2_top.avi']"
   ]
  },
  {
   "cell_type": "code",
   "execution_count": null,
   "metadata": {},
   "outputs": [],
   "source": [
    "deeplabcut.analyze_videos(config_path,video_paths)\n",
    "deeplabcut.create_labeled_video(config_path,video_paths)"
   ]
  },
  {
   "cell_type": "code",
   "execution_count": null,
   "metadata": {},
   "outputs": [],
   "source": []
  },
  {
   "cell_type": "code",
   "execution_count": null,
   "metadata": {},
   "outputs": [],
   "source": []
  },
  {
   "cell_type": "code",
   "execution_count": null,
   "metadata": {},
   "outputs": [],
   "source": []
  }
 ],
 "metadata": {
  "kernelspec": {
   "display_name": "DEEPLABCUT",
   "language": "python",
   "name": "python3"
  },
  "language_info": {
   "codemirror_mode": {
    "name": "ipython",
    "version": 3
   },
   "file_extension": ".py",
   "mimetype": "text/x-python",
   "name": "python",
   "nbconvert_exporter": "python",
   "pygments_lexer": "ipython3",
   "version": "3.8.19"
  }
 },
 "nbformat": 4,
 "nbformat_minor": 2
}
