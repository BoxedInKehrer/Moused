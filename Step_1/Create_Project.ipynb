{
 "cells": [
  {
   "cell_type": "code",
   "execution_count": 2,
   "metadata": {},
   "outputs": [
    {
     "name": "stdout",
     "output_type": "stream",
     "text": [
      "TensorFlow version: 2.12.0\n",
      "CUDA version: 11.8\n",
      "cuDNN version: 8\n",
      "Num GPUs Available:  1\n",
      "tensorrt version: 10.0.1\n"
     ]
    },
    {
     "name": "stderr",
     "output_type": "stream",
     "text": [
      "2024-07-10 12:55:21.599889: I tensorflow/compiler/xla/stream_executor/cuda/cuda_gpu_executor.cc:982] could not open file to read NUMA node: /sys/bus/pci/devices/0000:02:00.0/numa_node\n",
      "Your kernel may have been built without NUMA support.\n",
      "2024-07-10 12:55:21.634308: I tensorflow/compiler/xla/stream_executor/cuda/cuda_gpu_executor.cc:982] could not open file to read NUMA node: /sys/bus/pci/devices/0000:02:00.0/numa_node\n",
      "Your kernel may have been built without NUMA support.\n",
      "2024-07-10 12:55:21.634339: I tensorflow/compiler/xla/stream_executor/cuda/cuda_gpu_executor.cc:982] could not open file to read NUMA node: /sys/bus/pci/devices/0000:02:00.0/numa_node\n",
      "Your kernel may have been built without NUMA support.\n"
     ]
    }
   ],
   "source": [
    "import deeplabcut\n",
    "import tensorflow as tf\n",
    "import tensorrt as trt\n",
    "\n",
    "print(\"TensorFlow version:\", tf.__version__)\n",
    "print(\"CUDA version:\", tf.sysconfig.get_build_info()[\"cuda_version\"])\n",
    "print(\"cuDNN version:\", tf.sysconfig.get_build_info()[\"cudnn_version\"])\n",
    "print(\"Num GPUs Available: \", len(tf.config.list_physical_devices('GPU')))\n",
    "print(\"tensorrt version:\", trt.__version__)"
   ]
  },
  {
   "cell_type": "code",
   "execution_count": 2,
   "metadata": {},
   "outputs": [
    {
     "name": "stdout",
     "output_type": "stream",
     "text": [
      "Created \"/home/box/coding/CTIR/Step_1/Moused_4-David-2024-07-10/videos\"\n",
      "Created \"/home/box/coding/CTIR/Step_1/Moused_4-David-2024-07-10/labeled-data\"\n",
      "Created \"/home/box/coding/CTIR/Step_1/Moused_4-David-2024-07-10/training-datasets\"\n",
      "Created \"/home/box/coding/CTIR/Step_1/Moused_4-David-2024-07-10/dlc-models\"\n",
      "Attempting to create a symbolic link of the video ...\n",
      "Created the symlink of /home/box/coding/CTIR/videos/experiment_1/E1_front.avi to /home/box/coding/CTIR/Step_1/Moused_4-David-2024-07-10/videos/E1_front.avi\n",
      "Created the symlink of /home/box/coding/CTIR/videos/experiment_1/E1_side.avi to /home/box/coding/CTIR/Step_1/Moused_4-David-2024-07-10/videos/E1_side.avi\n",
      "Created the symlink of /home/box/coding/CTIR/videos/experiment_1/E1_top.avi to /home/box/coding/CTIR/Step_1/Moused_4-David-2024-07-10/videos/E1_top.avi\n",
      "Created the symlink of /home/box/coding/CTIR/videos/experiment_2/E2_front.avi to /home/box/coding/CTIR/Step_1/Moused_4-David-2024-07-10/videos/E2_front.avi\n",
      "Created the symlink of /home/box/coding/CTIR/videos/experiment_2/E2_side.avi to /home/box/coding/CTIR/Step_1/Moused_4-David-2024-07-10/videos/E2_side.avi\n",
      "Created the symlink of /home/box/coding/CTIR/videos/experiment_2/E2_top.avi to /home/box/coding/CTIR/Step_1/Moused_4-David-2024-07-10/videos/E2_top.avi\n",
      "/home/box/coding/CTIR/Step_1/Moused_4-David-2024-07-10/videos/E1_front.avi\n",
      "/home/box/coding/CTIR/Step_1/Moused_4-David-2024-07-10/videos/E1_side.avi\n",
      "/home/box/coding/CTIR/Step_1/Moused_4-David-2024-07-10/videos/E1_top.avi\n",
      "/home/box/coding/CTIR/Step_1/Moused_4-David-2024-07-10/videos/E2_front.avi\n",
      "/home/box/coding/CTIR/Step_1/Moused_4-David-2024-07-10/videos/E2_side.avi\n",
      "/home/box/coding/CTIR/Step_1/Moused_4-David-2024-07-10/videos/E2_top.avi\n",
      "Generated \"/home/box/coding/CTIR/Step_1/Moused_4-David-2024-07-10/config.yaml\"\n",
      "\n",
      "A new project with name Moused_4-David-2024-07-10 is created at /home/box/coding/CTIR/Step_1 and a configurable file (config.yaml) is stored there. Change the parameters in this file to adapt to your project's needs.\n",
      " Once you have changed the configuration file, use the function 'extract_frames' to select frames for labeling.\n",
      ". [OPTIONAL] Use the function 'add_new_videos' to add new videos to your project (at any stage).\n"
     ]
    },
    {
     "data": {
      "text/plain": [
       "'/home/box/coding/CTIR/Step_1/Moused_4-David-2024-07-10/config.yaml'"
      ]
     },
     "execution_count": 2,
     "metadata": {},
     "output_type": "execute_result"
    }
   ],
   "source": [
    "# only using experiment ONE to see how strongly it generalizes\n",
    "deeplabcut.create_new_project('Moused_4', 'David', ['/home/box/coding/CTIR/videos/experiment_1/E1_front.avi', '/home/box/coding/CTIR/videos/experiment_1/E1_side.avi', '/home/box/coding/CTIR/videos/experiment_1/E1_top.avi',\n",
    "                                                '/home/box/coding/CTIR/videos/experiment_2/E2_front.avi','/home/box/coding/CTIR/videos/experiment_2/E2_side.avi','/home/box/coding/CTIR/videos/experiment_2/E2_top.avi'])"
   ]
  },
  {
   "cell_type": "code",
   "execution_count": null,
   "metadata": {},
   "outputs": [],
   "source": [
    "config_path = '/home/box/coding/CTIR/Moused_2-David-2024-07-05/config.yaml'"
   ]
  },
  {
   "cell_type": "code",
   "execution_count": 3,
   "metadata": {},
   "outputs": [],
   "source": [
    "config_path = '/home/box/coding/CTIR/Moused_4-David-2024-07-10/config.yaml'\n"
   ]
  },
  {
   "cell_type": "code",
   "execution_count": null,
   "metadata": {},
   "outputs": [],
   "source": [
    "deeplabcut.extract_frames(config_path, algo='uniform', userfeedback=False)"
   ]
  },
  {
   "cell_type": "code",
   "execution_count": 8,
   "metadata": {},
   "outputs": [
    {
     "name": "stdout",
     "output_type": "stream",
     "text": [
      "Do you want to convert the csv file in folder: /home/box/coding/CTIR/Moused_4-David-2024-07-10/labeled-data/E1_front ?\n",
      "Do you want to convert the csv file in folder: /home/box/coding/CTIR/Moused_4-David-2024-07-10/labeled-data/E1_side ?\n",
      "Do you want to convert the csv file in folder: /home/box/coding/CTIR/Moused_4-David-2024-07-10/labeled-data/E1_top ?\n",
      "Do you want to convert the csv file in folder: /home/box/coding/CTIR/Moused_4-David-2024-07-10/labeled-data/E2_front ?\n",
      "Do you want to convert the csv file in folder: /home/box/coding/CTIR/Moused_4-David-2024-07-10/labeled-data/E2_side ?\n",
      "Do you want to convert the csv file in folder: /home/box/coding/CTIR/Moused_4-David-2024-07-10/labeled-data/E2_top ?\n"
     ]
    }
   ],
   "source": [
    "deeplabcut.convertcsv2h5('/home/box/coding/CTIR/Moused_4-David-2024-07-10/config.yaml', scorer= 'David')"
   ]
  },
  {
   "cell_type": "code",
   "execution_count": null,
   "metadata": {},
   "outputs": [],
   "source": [
    "deeplabcut.label_frames(config_path)"
   ]
  },
  {
   "cell_type": "code",
   "execution_count": 9,
   "metadata": {},
   "outputs": [
    {
     "name": "stdout",
     "output_type": "stream",
     "text": [
      "Creating images with labels by David.\n"
     ]
    },
    {
     "name": "stderr",
     "output_type": "stream",
     "text": [
      "100%|██████████| 38/38 [00:04<00:00,  8.36it/s]\n",
      "100%|██████████| 46/46 [00:05<00:00,  9.00it/s]\n",
      "100%|██████████| 44/44 [00:05<00:00,  8.48it/s]\n",
      "100%|██████████| 28/28 [00:03<00:00,  8.36it/s]\n",
      "100%|██████████| 34/34 [00:03<00:00,  9.13it/s]\n",
      "100%|██████████| 33/33 [00:03<00:00,  8.65it/s]"
     ]
    },
    {
     "name": "stdout",
     "output_type": "stream",
     "text": [
      "If all the labels are ok, then use the function 'create_training_dataset' to create the training dataset!\n"
     ]
    },
    {
     "name": "stderr",
     "output_type": "stream",
     "text": [
      "\n"
     ]
    }
   ],
   "source": [
    "deeplabcut.check_labels(config_path)"
   ]
  },
  {
   "cell_type": "code",
   "execution_count": 4,
   "metadata": {},
   "outputs": [
    {
     "name": "stdout",
     "output_type": "stream",
     "text": [
      "The training dataset is successfully created. Use the function 'train_network' to start training. Happy training!\n"
     ]
    },
    {
     "data": {
      "text/plain": [
       "[(0.9,\n",
       "  1,\n",
       "  (array([ 96, 202, 169, 136, 182, 150,  44, 197,  64,   8, 107,  37,   5,\n",
       "          145,  63, 184, 139, 205, 219,  90, 110,  74, 125,  75, 155,  12,\n",
       "          158, 160, 124, 135,  55, 104, 156, 171,  18,  15,  92,   7,  76,\n",
       "          162,  97, 143, 152, 106, 200,  33, 144, 217, 199, 138, 116, 188,\n",
       "          194,  16, 123, 109, 210,  22, 204,  45,  71,   4,  83, 186,  61,\n",
       "           52,  66,  26, 166,  40,  13, 122,  89,  24,  30,  60,  56, 161,\n",
       "          101,  19, 168, 176,  54, 180,  80,  51, 108, 154, 118,  86, 178,\n",
       "          126, 159, 111,  41,  14,  27, 141, 201,  20, 149,  46, 153, 218,\n",
       "          130, 157,  62, 146,   2,  59, 137, 207,  43,  10, 129,  73, 213,\n",
       "          216, 112, 198, 189,  98,   3,  93, 134, 203, 212,  50, 113,   0,\n",
       "           94,  95,  69,  49,  48,  85, 220,  23,  78, 100, 131, 181, 221,\n",
       "            6,  68,  84, 121, 208, 170, 190, 185, 222,  91, 191,  11, 119,\n",
       "          102,  35,  57,  65,   1, 120, 179,  42, 105, 132, 206,  17,  38,\n",
       "          133,  53, 164, 173, 128,  34,  28, 114, 163, 151,  31, 183, 127,\n",
       "          196,  32, 167, 142, 187, 147,  29, 177,  99,  82, 175,  79, 115,\n",
       "          148, 215,  72,  77,  25]),\n",
       "   array([165,  81, 209, 174, 214,  39, 193,  58, 140,  88,  70,  87,  36,\n",
       "           21, 211,   9, 103, 195,  67, 192, 117,  47, 172])))]"
      ]
     },
     "execution_count": 4,
     "metadata": {},
     "output_type": "execute_result"
    }
   ],
   "source": [
    "# There are many more functions you can set here, including which network to use. Check the docstring for full options you can do!\n",
    "deeplabcut.create_training_dataset(config_path, num_shuffles=1, net_type='resnet_101', augmenter_type='imgaug')"
   ]
  },
  {
   "cell_type": "code",
   "execution_count": 13,
   "metadata": {},
   "outputs": [
    {
     "name": "stderr",
     "output_type": "stream",
     "text": [
      "2024-07-10 12:52:14.117585: I tensorflow/compiler/xla/stream_executor/cuda/cuda_gpu_executor.cc:982] could not open file to read NUMA node: /sys/bus/pci/devices/0000:02:00.0/numa_node\n",
      "Your kernel may have been built without NUMA support.\n",
      "2024-07-10 12:52:14.117667: I tensorflow/compiler/xla/stream_executor/cuda/cuda_gpu_executor.cc:982] could not open file to read NUMA node: /sys/bus/pci/devices/0000:02:00.0/numa_node\n",
      "Your kernel may have been built without NUMA support.\n",
      "2024-07-10 12:52:14.117692: I tensorflow/compiler/xla/stream_executor/cuda/cuda_gpu_executor.cc:982] could not open file to read NUMA node: /sys/bus/pci/devices/0000:02:00.0/numa_node\n",
      "Your kernel may have been built without NUMA support.\n",
      "2024-07-10 12:52:14.117946: I tensorflow/compiler/xla/stream_executor/cuda/cuda_gpu_executor.cc:982] could not open file to read NUMA node: /sys/bus/pci/devices/0000:02:00.0/numa_node\n",
      "Your kernel may have been built without NUMA support.\n",
      "2024-07-10 12:52:14.117960: I tensorflow/core/common_runtime/gpu/gpu_device.cc:1722] Could not identify NUMA node of platform GPU id 0, defaulting to 0.  Your kernel may not have been built with NUMA support.\n",
      "2024-07-10 12:52:14.117996: I tensorflow/compiler/xla/stream_executor/cuda/cuda_gpu_executor.cc:982] could not open file to read NUMA node: /sys/bus/pci/devices/0000:02:00.0/numa_node\n",
      "Your kernel may have been built without NUMA support.\n",
      "2024-07-10 12:52:14.118013: I tensorflow/core/common_runtime/gpu/gpu_device.cc:1635] Created device /job:localhost/replica:0/task:0/device:GPU:0 with 13297 MB memory:  -> device: 0, name: NVIDIA GeForce RTX 4080 SUPER, pci bus id: 0000:02:00.0, compute capability: 8.9\n"
     ]
    }
   ],
   "source": [
    "import tensorflow as tf\n",
    "from tensorflow.compat.v1 import ConfigProto\n",
    "from tensorflow.compat.v1 import InteractiveSession\n",
    "\n",
    "config = ConfigProto()\n",
    "config.gpu_options.allow_growth = True\n",
    "session = InteractiveSession(config=config)\n"
   ]
  },
  {
   "cell_type": "code",
   "execution_count": null,
   "metadata": {},
   "outputs": [],
   "source": [
    "trainposeconfigfile"
   ]
  },
  {
   "cell_type": "code",
   "execution_count": 15,
   "metadata": {},
   "outputs": [
    {
     "name": "stderr",
     "output_type": "stream",
     "text": [
      "Config:\n",
      "{'all_joints': [[0],\n",
      "                [1],\n",
      "                [2],\n",
      "                [3],\n",
      "                [4],\n",
      "                [5],\n",
      "                [6],\n",
      "                [7],\n",
      "                [8],\n",
      "                [9],\n",
      "                [10],\n",
      "                [11],\n",
      "                [12],\n",
      "                [13],\n",
      "                [14],\n",
      "                [15],\n",
      "                [16],\n",
      "                [17],\n",
      "                [18],\n",
      "                [19],\n",
      "                [20]],\n",
      " 'all_joints_names': ['nose',\n",
      "                      'eye_left',\n",
      "                      'eye_right',\n",
      "                      'ear_left',\n",
      "                      'ear_right',\n",
      "                      'front_paw_left',\n",
      "                      'front_paw_right',\n",
      "                      'body_center',\n",
      "                      'tail_base',\n",
      "                      'lever_tip',\n",
      "                      'upper_lever_tip',\n",
      "                      'stick_head',\n",
      "                      'ball',\n",
      "                      'sliding_door',\n",
      "                      'sliding_door_top_left',\n",
      "                      'sliding_door_top_right',\n",
      "                      'sliding_door_bottom_left',\n",
      "                      'sliding_door_bottom_right',\n",
      "                      'plateau_middle_front',\n",
      "                      'plateau_middle_back',\n",
      "                      'plateau_right_front'],\n",
      " 'alpha_r': 0.02,\n",
      " 'apply_prob': 0.5,\n",
      " 'augmentationprobability': 0.7,\n",
      " 'batch_size': 2,\n",
      " 'contrast': {'clahe': True,\n",
      "              'claheratio': 0.1,\n",
      "              'histeq': True,\n",
      "              'histeqratio': 0.1},\n",
      " 'convolution': {'edge': False,\n",
      "                 'emboss': {'alpha': [0.0, 1.0], 'strength': [0.5, 1.5]},\n",
      "                 'embossratio': 0.1,\n",
      "                 'sharpen': False,\n",
      "                 'sharpenratio': 0.3},\n",
      " 'covering': True,\n",
      " 'crop_pad': 0,\n",
      " 'cropratio': 0.4,\n",
      " 'dataset': 'training-datasets/iteration-0/UnaugmentedDataSet_Moused_4Jul10/Moused_4_David90shuffle1.mat',\n",
      " 'dataset_type': 'imgaug',\n",
      " 'decay_steps': 30000,\n",
      " 'deterministic': False,\n",
      " 'display_iters': 100,\n",
      " 'elastic_transform': True,\n",
      " 'fg_fraction': 0.25,\n",
      " 'global_scale': 0.8,\n",
      " 'init_weights': '/home/box/anaconda3/envs/DEEPLABCUT/lib/python3.8/site-packages/deeplabcut/pose_estimation_tensorflow/models/pretrained/resnet_v1_101.ckpt',\n",
      " 'intermediate_supervision': False,\n",
      " 'intermediate_supervision_layer': 12,\n",
      " 'location_refinement': True,\n",
      " 'locref_huber_loss': True,\n",
      " 'locref_loss_weight': 0.05,\n",
      " 'locref_stdev': 7.2801,\n",
      " 'log_dir': 'log',\n",
      " 'lr_init': 0.0001,\n",
      " 'max_input_size': 1500,\n",
      " 'max_iters': 100000,\n",
      " 'mean_pixel': [123.68, 116.779, 103.939],\n",
      " 'metadataset': 'training-datasets/iteration-0/UnaugmentedDataSet_Moused_4Jul10/Documentation_data-Moused_4_90shuffle1.pickle',\n",
      " 'min_input_size': 64,\n",
      " 'mirror': False,\n",
      " 'motion_blur': True,\n",
      " 'multi_stage': False,\n",
      " 'multi_step': [[0.0001, 5000], [0.0005, 10000]],\n",
      " 'net_type': 'resnet_101',\n",
      " 'num_joints': 21,\n",
      " 'optimizer': 'adam',\n",
      " 'pairwise_huber_loss': False,\n",
      " 'pairwise_predict': False,\n",
      " 'partaffinityfield_predict': False,\n",
      " 'pos_dist_thresh': 17,\n",
      " 'project_path': '/home/box/coding/CTIR/Moused_4-David-2024-07-10',\n",
      " 'regularize': False,\n",
      " 'rotation': 180,\n",
      " 'rotratio': 0.4,\n",
      " 'save_iters': 2000,\n",
      " 'scale_jitter_lo': 0.7,\n",
      " 'scale_jitter_up': 1.5,\n",
      " 'scoremap_dir': 'test',\n",
      " 'shuffle': True,\n",
      " 'snapshot_prefix': '/home/box/coding/CTIR/Moused_4-David-2024-07-10/dlc-models/iteration-0/Moused_4Jul10-trainset90shuffle1/train/snapshot',\n",
      " 'stride': 8.0,\n",
      " 'weigh_negatives': False,\n",
      " 'weigh_only_present_joints': False,\n",
      " 'weigh_part_predictions': False,\n",
      " 'weight_decay': 0.0001}\n"
     ]
    },
    {
     "name": "stdout",
     "output_type": "stream",
     "text": [
      "Selecting single-animal trainer\n",
      "Batch Size is 2\n",
      "Loading ImageNet-pretrained resnet_101\n"
     ]
    },
    {
     "name": "stderr",
     "output_type": "stream",
     "text": [
      "2024-07-10 13:15:59.252415: I tensorflow/compiler/xla/stream_executor/cuda/cuda_gpu_executor.cc:982] could not open file to read NUMA node: /sys/bus/pci/devices/0000:02:00.0/numa_node\n",
      "Your kernel may have been built without NUMA support.\n",
      "2024-07-10 13:15:59.252519: I tensorflow/compiler/xla/stream_executor/cuda/cuda_gpu_executor.cc:982] could not open file to read NUMA node: /sys/bus/pci/devices/0000:02:00.0/numa_node\n",
      "Your kernel may have been built without NUMA support.\n",
      "2024-07-10 13:15:59.252534: I tensorflow/compiler/xla/stream_executor/cuda/cuda_gpu_executor.cc:982] could not open file to read NUMA node: /sys/bus/pci/devices/0000:02:00.0/numa_node\n",
      "Your kernel may have been built without NUMA support.\n",
      "2024-07-10 13:15:59.253006: I tensorflow/compiler/xla/stream_executor/cuda/cuda_gpu_executor.cc:982] could not open file to read NUMA node: /sys/bus/pci/devices/0000:02:00.0/numa_node\n",
      "Your kernel may have been built without NUMA support.\n",
      "2024-07-10 13:15:59.253048: I tensorflow/core/common_runtime/gpu/gpu_device.cc:1722] Could not identify NUMA node of platform GPU id 0, defaulting to 0.  Your kernel may not have been built with NUMA support.\n",
      "2024-07-10 13:15:59.253074: I tensorflow/compiler/xla/stream_executor/cuda/cuda_gpu_executor.cc:982] could not open file to read NUMA node: /sys/bus/pci/devices/0000:02:00.0/numa_node\n",
      "Your kernel may have been built without NUMA support.\n",
      "2024-07-10 13:15:59.253112: I tensorflow/core/common_runtime/gpu/gpu_device.cc:1635] Created device /job:localhost/replica:0/task:0/device:GPU:0 with 13297 MB memory:  -> device: 0, name: NVIDIA GeForce RTX 4080 SUPER, pci bus id: 0000:02:00.0, compute capability: 8.9\n",
      "2024-07-10 13:16:04.972431: W tensorflow/c/c_api.cc:300] Operation '{name:'pose/locref_pred/block4/biases/Adam_1/Assign' id:13409 op device:{requested: '', assigned: ''} def:{{{node pose/locref_pred/block4/biases/Adam_1/Assign}} = AssignVariableOp[_has_manual_control_dependencies=true, dtype=DT_FLOAT, validate_shape=false](pose/locref_pred/block4/biases/Adam_1, pose/locref_pred/block4/biases/Adam_1/Initializer/zeros)}}' was changed by setting attribute after it was run by a session. This mutation will have no effect, and will trigger an error in the future. Either don't modify nodes after running them or create a new session.\n"
     ]
    },
    {
     "name": "stdout",
     "output_type": "stream",
     "text": [
      "Training parameter:\n",
      "{'stride': 8.0, 'weigh_part_predictions': False, 'weigh_negatives': False, 'fg_fraction': 0.25, 'mean_pixel': [123.68, 116.779, 103.939], 'shuffle': True, 'snapshot_prefix': '/home/box/coding/CTIR/Moused_4-David-2024-07-10/dlc-models/iteration-0/Moused_4Jul10-trainset90shuffle1/train/snapshot', 'log_dir': 'log', 'global_scale': 0.8, 'location_refinement': True, 'locref_stdev': 7.2801, 'locref_loss_weight': 0.05, 'locref_huber_loss': True, 'optimizer': 'adam', 'intermediate_supervision': False, 'intermediate_supervision_layer': 12, 'regularize': False, 'weight_decay': 0.0001, 'crop_pad': 0, 'scoremap_dir': 'test', 'batch_size': 2, 'dataset_type': 'imgaug', 'deterministic': False, 'mirror': False, 'pairwise_huber_loss': False, 'weigh_only_present_joints': False, 'partaffinityfield_predict': False, 'pairwise_predict': False, 'all_joints': [[0], [1], [2], [3], [4], [5], [6], [7], [8], [9], [10], [11], [12], [13], [14], [15], [16], [17], [18], [19], [20]], 'all_joints_names': ['nose', 'eye_left', 'eye_right', 'ear_left', 'ear_right', 'front_paw_left', 'front_paw_right', 'body_center', 'tail_base', 'lever_tip', 'upper_lever_tip', 'stick_head', 'ball', 'sliding_door', 'sliding_door_top_left', 'sliding_door_top_right', 'sliding_door_bottom_left', 'sliding_door_bottom_right', 'plateau_middle_front', 'plateau_middle_back', 'plateau_right_front'], 'alpha_r': 0.02, 'apply_prob': 0.5, 'contrast': {'clahe': True, 'claheratio': 0.1, 'histeq': True, 'histeqratio': 0.1, 'gamma': False, 'sigmoid': False, 'log': False, 'linear': False}, 'convolution': {'edge': False, 'emboss': {'alpha': [0.0, 1.0], 'strength': [0.5, 1.5]}, 'embossratio': 0.1, 'sharpen': False, 'sharpenratio': 0.3}, 'cropratio': 0.4, 'dataset': 'training-datasets/iteration-0/UnaugmentedDataSet_Moused_4Jul10/Moused_4_David90shuffle1.mat', 'decay_steps': 30000, 'display_iters': 100, 'init_weights': '/home/box/anaconda3/envs/DEEPLABCUT/lib/python3.8/site-packages/deeplabcut/pose_estimation_tensorflow/models/pretrained/resnet_v1_101.ckpt', 'lr_init': 0.0001, 'max_input_size': 1500, 'metadataset': 'training-datasets/iteration-0/UnaugmentedDataSet_Moused_4Jul10/Documentation_data-Moused_4_90shuffle1.pickle', 'min_input_size': 64, 'multi_stage': False, 'net_type': 'resnet_101', 'num_joints': 21, 'pos_dist_thresh': 17, 'project_path': '/home/box/coding/CTIR/Moused_4-David-2024-07-10', 'rotation': 180, 'rotratio': 0.4, 'save_iters': 2000, 'scale_jitter_lo': 0.7, 'scale_jitter_up': 1.5, 'augmentationprobability': 0.7, 'elastic_transform': True, 'covering': True, 'motion_blur': True, 'max_iters': 100000, 'multi_step': [[0.0001, 5000], [0.0005, 10000]], 'motion_blur_params': {'k': 7, 'angle': (-90, 90)}}\n",
      "Starting training....\n"
     ]
    },
    {
     "name": "stderr",
     "output_type": "stream",
     "text": [
      "iteration: 100 loss: 0.0670 lr: 0.0001\n",
      "iteration: 200 loss: 0.0302 lr: 0.0001\n",
      "iteration: 300 loss: 0.0258 lr: 0.0001\n",
      "iteration: 400 loss: 0.0229 lr: 0.0001\n",
      "iteration: 500 loss: 0.0207 lr: 0.0001\n",
      "iteration: 600 loss: 0.0209 lr: 0.0001\n",
      "iteration: 700 loss: 0.0186 lr: 0.0001\n",
      "iteration: 800 loss: 0.0176 lr: 0.0001\n",
      "iteration: 900 loss: 0.0171 lr: 0.0001\n",
      "iteration: 1000 loss: 0.0161 lr: 0.0001\n",
      "iteration: 1100 loss: 0.0155 lr: 0.0001\n",
      "iteration: 1200 loss: 0.0151 lr: 0.0001\n",
      "iteration: 1300 loss: 0.0140 lr: 0.0001\n",
      "iteration: 1400 loss: 0.0138 lr: 0.0001\n",
      "iteration: 1500 loss: 0.0136 lr: 0.0001\n",
      "iteration: 1600 loss: 0.0134 lr: 0.0001\n",
      "iteration: 1700 loss: 0.0127 lr: 0.0001\n",
      "iteration: 1800 loss: 0.0120 lr: 0.0001\n",
      "iteration: 1900 loss: 0.0126 lr: 0.0001\n",
      "iteration: 2000 loss: 0.0125 lr: 0.0001\n",
      "iteration: 2100 loss: 0.0119 lr: 0.0001\n",
      "iteration: 2200 loss: 0.0116 lr: 0.0001\n",
      "iteration: 2300 loss: 0.0115 lr: 0.0001\n",
      "iteration: 2400 loss: 0.0124 lr: 0.0001\n",
      "iteration: 2500 loss: 0.0107 lr: 0.0001\n",
      "iteration: 2600 loss: 0.0106 lr: 0.0001\n",
      "iteration: 2700 loss: 0.0106 lr: 0.0001\n",
      "iteration: 2800 loss: 0.0109 lr: 0.0001\n",
      "iteration: 2900 loss: 0.0102 lr: 0.0001\n",
      "iteration: 3000 loss: 0.0104 lr: 0.0001\n",
      "iteration: 3100 loss: 0.0098 lr: 0.0001\n",
      "iteration: 3200 loss: 0.0103 lr: 0.0001\n",
      "iteration: 3300 loss: 0.0095 lr: 0.0001\n",
      "iteration: 3400 loss: 0.0098 lr: 0.0001\n",
      "iteration: 3500 loss: 0.0093 lr: 0.0001\n",
      "iteration: 3600 loss: 0.0097 lr: 0.0001\n",
      "iteration: 3700 loss: 0.0094 lr: 0.0001\n",
      "iteration: 3800 loss: 0.0095 lr: 0.0001\n",
      "iteration: 3900 loss: 0.0087 lr: 0.0001\n",
      "iteration: 4000 loss: 0.0087 lr: 0.0001\n",
      "iteration: 4100 loss: 0.0088 lr: 0.0001\n",
      "iteration: 4200 loss: 0.0086 lr: 0.0001\n",
      "iteration: 4300 loss: 0.0088 lr: 0.0001\n",
      "iteration: 4400 loss: 0.0088 lr: 0.0001\n",
      "iteration: 4500 loss: 0.0086 lr: 0.0001\n",
      "iteration: 4600 loss: 0.0090 lr: 0.0001\n",
      "iteration: 4700 loss: 0.0084 lr: 0.0001\n",
      "iteration: 4800 loss: 0.0085 lr: 0.0001\n",
      "iteration: 4900 loss: 0.0081 lr: 0.0001\n",
      "iteration: 5000 loss: 0.0083 lr: 0.0001\n",
      "iteration: 5100 loss: 0.0172 lr: 0.0005\n",
      "iteration: 5200 loss: 0.0161 lr: 0.0005\n",
      "iteration: 5300 loss: 0.0155 lr: 0.0005\n",
      "iteration: 5400 loss: 0.0139 lr: 0.0005\n",
      "iteration: 5500 loss: 0.0143 lr: 0.0005\n",
      "iteration: 5600 loss: 0.0134 lr: 0.0005\n",
      "iteration: 5700 loss: 0.0142 lr: 0.0005\n",
      "iteration: 5800 loss: 0.0130 lr: 0.0005\n",
      "iteration: 5900 loss: 0.0132 lr: 0.0005\n",
      "iteration: 6000 loss: 0.0137 lr: 0.0005\n",
      "iteration: 6100 loss: 0.0126 lr: 0.0005\n",
      "iteration: 6200 loss: 0.0121 lr: 0.0005\n",
      "iteration: 6300 loss: 0.0139 lr: 0.0005\n",
      "iteration: 6400 loss: 0.0125 lr: 0.0005\n",
      "iteration: 6500 loss: 0.0131 lr: 0.0005\n",
      "iteration: 6600 loss: 0.0117 lr: 0.0005\n",
      "iteration: 6700 loss: 0.0127 lr: 0.0005\n",
      "iteration: 6800 loss: 0.0128 lr: 0.0005\n",
      "iteration: 6900 loss: 0.0117 lr: 0.0005\n",
      "iteration: 7000 loss: 0.0118 lr: 0.0005\n",
      "iteration: 7100 loss: 0.0118 lr: 0.0005\n",
      "iteration: 7200 loss: 0.0122 lr: 0.0005\n",
      "iteration: 7300 loss: 0.0119 lr: 0.0005\n",
      "iteration: 7400 loss: 0.0119 lr: 0.0005\n",
      "iteration: 7500 loss: 0.0115 lr: 0.0005\n",
      "iteration: 7600 loss: 0.0119 lr: 0.0005\n",
      "iteration: 7700 loss: 0.0122 lr: 0.0005\n",
      "iteration: 7800 loss: 0.0122 lr: 0.0005\n",
      "iteration: 7900 loss: 0.0120 lr: 0.0005\n",
      "iteration: 8000 loss: 0.0119 lr: 0.0005\n",
      "iteration: 8100 loss: 0.0115 lr: 0.0005\n",
      "iteration: 8200 loss: 0.0109 lr: 0.0005\n",
      "iteration: 8300 loss: 0.0112 lr: 0.0005\n",
      "iteration: 8400 loss: 0.0118 lr: 0.0005\n",
      "iteration: 8500 loss: 0.0111 lr: 0.0005\n",
      "iteration: 8600 loss: 0.0121 lr: 0.0005\n",
      "iteration: 8700 loss: 0.0115 lr: 0.0005\n",
      "iteration: 8800 loss: 0.0113 lr: 0.0005\n",
      "iteration: 8900 loss: 0.0115 lr: 0.0005\n",
      "iteration: 9000 loss: 0.0116 lr: 0.0005\n",
      "iteration: 9100 loss: 0.0103 lr: 0.0005\n",
      "iteration: 9200 loss: 0.0116 lr: 0.0005\n",
      "iteration: 9300 loss: 0.0113 lr: 0.0005\n",
      "iteration: 9400 loss: 0.0117 lr: 0.0005\n",
      "iteration: 9500 loss: 0.0106 lr: 0.0005\n",
      "iteration: 9600 loss: 0.0109 lr: 0.0005\n",
      "iteration: 9700 loss: 0.0111 lr: 0.0005\n",
      "iteration: 9800 loss: 0.0115 lr: 0.0005\n",
      "iteration: 9900 loss: 0.0108 lr: 0.0005\n",
      "iteration: 10000 loss: 0.0118 lr: 0.0005\n",
      "2024-07-10 13:32:45.225713: I tensorflow/core/common_runtime/executor.cc:1197] [/job:localhost/replica:0/task:0/device:CPU:0] (DEBUG INFO) Executor start aborting (this does not indicate an error and you can ignore this message): CANCELLED: Enqueue operation was cancelled\n",
      "\t [[{{node fifo_queue_enqueue}}]]\n",
      "2024-07-10 13:32:45.225782: W tensorflow/core/kernels/queue_base.cc:277] _10_fifo_queue: Skipping cancelled enqueue attempt with queue not closed\n",
      "Exception in thread Thread-14:\n",
      "Traceback (most recent call last):\n",
      "  File \"/home/box/anaconda3/envs/DEEPLABCUT/lib/python3.8/site-packages/tensorflow/python/client/session.py\", line 1378, in _do_call\n",
      "    return fn(*args)\n",
      "  File \"/home/box/anaconda3/envs/DEEPLABCUT/lib/python3.8/site-packages/tensorflow/python/client/session.py\", line 1361, in _run_fn\n",
      "    return self._call_tf_sessionrun(options, feed_dict, fetch_list,\n",
      "  File \"/home/box/anaconda3/envs/DEEPLABCUT/lib/python3.8/site-packages/tensorflow/python/client/session.py\", line 1454, in _call_tf_sessionrun\n",
      "    return tf_session.TF_SessionRun_wrapper(self._session, options, feed_dict,\n",
      "tensorflow.python.framework.errors_impl.CancelledError: Enqueue operation was cancelled\n",
      "\t [[{{node fifo_queue_enqueue}}]]\n",
      "\n",
      "During handling of the above exception, another exception occurred:\n",
      "\n",
      "Traceback (most recent call last):\n",
      "  File \"/home/box/anaconda3/envs/DEEPLABCUT/lib/python3.8/threading.py\", line 932, in _bootstrap_inner\n",
      "    self.run()\n",
      "  File \"/home/box/anaconda3/envs/DEEPLABCUT/lib/python3.8/site-packages/ipykernel/ipkernel.py\", line 761, in run_closure\n",
      "    _threading_Thread_run(self)\n",
      "  File \"/home/box/anaconda3/envs/DEEPLABCUT/lib/python3.8/threading.py\", line 870, in run\n",
      "    self._target(*self._args, **self._kwargs)\n",
      "  File \"/home/box/anaconda3/envs/DEEPLABCUT/lib/python3.8/site-packages/deeplabcut/pose_estimation_tensorflow/core/train.py\", line 86, in load_and_enqueue\n",
      "    sess.run(enqueue_op, feed_dict=food)\n",
      "  File \"/home/box/anaconda3/envs/DEEPLABCUT/lib/python3.8/site-packages/tensorflow/python/client/session.py\", line 968, in run\n",
      "    result = self._run(None, fetches, feed_dict, options_ptr,\n",
      "  File \"/home/box/anaconda3/envs/DEEPLABCUT/lib/python3.8/site-packages/tensorflow/python/client/session.py\", line 1191, in _run\n",
      "    results = self._do_run(handle, final_targets, final_fetches,\n",
      "  File \"/home/box/anaconda3/envs/DEEPLABCUT/lib/python3.8/site-packages/tensorflow/python/client/session.py\", line 1371, in _do_run\n",
      "    return self._do_call(_run_fn, feeds, fetches, targets, options,\n",
      "  File \"/home/box/anaconda3/envs/DEEPLABCUT/lib/python3.8/site-packages/tensorflow/python/client/session.py\", line 1397, in _do_call\n",
      "    raise type(e)(node_def, op, message)  # pylint: disable=no-value-for-parameter\n",
      "tensorflow.python.framework.errors_impl.CancelledError: Graph execution error:\n",
      "\n",
      "Detected at node 'fifo_queue_enqueue' defined at (most recent call last):\n",
      "    File \"/home/box/anaconda3/envs/DEEPLABCUT/lib/python3.8/runpy.py\", line 194, in _run_module_as_main\n",
      "      return _run_code(code, main_globals, None,\n",
      "    File \"/home/box/anaconda3/envs/DEEPLABCUT/lib/python3.8/runpy.py\", line 87, in _run_code\n",
      "      exec(code, run_globals)\n",
      "    File \"/home/box/anaconda3/envs/DEEPLABCUT/lib/python3.8/site-packages/ipykernel_launcher.py\", line 18, in <module>\n",
      "      app.launch_new_instance()\n",
      "    File \"/home/box/anaconda3/envs/DEEPLABCUT/lib/python3.8/site-packages/traitlets/config/application.py\", line 1075, in launch_instance\n",
      "      app.start()\n",
      "    File \"/home/box/anaconda3/envs/DEEPLABCUT/lib/python3.8/site-packages/ipykernel/kernelapp.py\", line 739, in start\n",
      "      self.io_loop.start()\n",
      "    File \"/home/box/anaconda3/envs/DEEPLABCUT/lib/python3.8/site-packages/tornado/platform/asyncio.py\", line 205, in start\n",
      "      self.asyncio_loop.run_forever()\n",
      "    File \"/home/box/anaconda3/envs/DEEPLABCUT/lib/python3.8/asyncio/base_events.py\", line 570, in run_forever\n",
      "      self._run_once()\n",
      "    File \"/home/box/anaconda3/envs/DEEPLABCUT/lib/python3.8/asyncio/base_events.py\", line 1859, in _run_once\n",
      "      handle._run()\n",
      "    File \"/home/box/anaconda3/envs/DEEPLABCUT/lib/python3.8/asyncio/events.py\", line 81, in _run\n",
      "      self._context.run(self._callback, *self._args)\n",
      "    File \"/home/box/anaconda3/envs/DEEPLABCUT/lib/python3.8/site-packages/ipykernel/kernelbase.py\", line 545, in dispatch_queue\n",
      "      await self.process_one()\n",
      "    File \"/home/box/anaconda3/envs/DEEPLABCUT/lib/python3.8/site-packages/ipykernel/kernelbase.py\", line 534, in process_one\n",
      "      await dispatch(*args)\n",
      "    File \"/home/box/anaconda3/envs/DEEPLABCUT/lib/python3.8/site-packages/ipykernel/kernelbase.py\", line 437, in dispatch_shell\n",
      "      await result\n",
      "    File \"/home/box/anaconda3/envs/DEEPLABCUT/lib/python3.8/site-packages/ipykernel/ipkernel.py\", line 359, in execute_request\n",
      "      await super().execute_request(stream, ident, parent)\n",
      "    File \"/home/box/anaconda3/envs/DEEPLABCUT/lib/python3.8/site-packages/ipykernel/kernelbase.py\", line 778, in execute_request\n",
      "      reply_content = await reply_content\n",
      "    File \"/home/box/anaconda3/envs/DEEPLABCUT/lib/python3.8/site-packages/ipykernel/ipkernel.py\", line 446, in do_execute\n",
      "      res = shell.run_cell(\n",
      "    File \"/home/box/anaconda3/envs/DEEPLABCUT/lib/python3.8/site-packages/ipykernel/zmqshell.py\", line 549, in run_cell\n",
      "      return super().run_cell(*args, **kwargs)\n",
      "    File \"/home/box/anaconda3/envs/DEEPLABCUT/lib/python3.8/site-packages/IPython/core/interactiveshell.py\", line 3009, in run_cell\n",
      "      result = self._run_cell(\n",
      "    File \"/home/box/anaconda3/envs/DEEPLABCUT/lib/python3.8/site-packages/IPython/core/interactiveshell.py\", line 3064, in _run_cell\n",
      "      result = runner(coro)\n",
      "    File \"/home/box/anaconda3/envs/DEEPLABCUT/lib/python3.8/site-packages/IPython/core/async_helpers.py\", line 129, in _pseudo_sync_runner\n",
      "      coro.send(None)\n",
      "    File \"/home/box/anaconda3/envs/DEEPLABCUT/lib/python3.8/site-packages/IPython/core/interactiveshell.py\", line 3269, in run_cell_async\n",
      "      has_raised = await self.run_ast_nodes(code_ast.body, cell_name,\n",
      "    File \"/home/box/anaconda3/envs/DEEPLABCUT/lib/python3.8/site-packages/IPython/core/interactiveshell.py\", line 3448, in run_ast_nodes\n",
      "      if await self.run_code(code, result, async_=asy):\n",
      "    File \"/home/box/anaconda3/envs/DEEPLABCUT/lib/python3.8/site-packages/IPython/core/interactiveshell.py\", line 3508, in run_code\n",
      "      exec(code_obj, self.user_global_ns, self.user_ns)\n",
      "    File \"/tmp/ipykernel_14828/4197938643.py\", line 33, in <module>\n",
      "      deeplabcut.train_network(config_path, shuffle=shuffle, trainingsetindex=trainingsetindex)\n",
      "    File \"/home/box/anaconda3/envs/DEEPLABCUT/lib/python3.8/site-packages/deeplabcut/pose_estimation_tensorflow/training.py\", line 273, in train_network\n",
      "      train(\n",
      "    File \"/home/box/anaconda3/envs/DEEPLABCUT/lib/python3.8/site-packages/deeplabcut/pose_estimation_tensorflow/core/train.py\", line 172, in train\n",
      "      batch, enqueue_op, placeholders = setup_preloading(batch_spec)\n",
      "    File \"/home/box/anaconda3/envs/DEEPLABCUT/lib/python3.8/site-packages/deeplabcut/pose_estimation_tensorflow/core/train.py\", line 72, in setup_preloading\n",
      "      enqueue_op = q.enqueue(placeholders_list)\n",
      "Node: 'fifo_queue_enqueue'\n",
      "Enqueue operation was cancelled\n",
      "\t [[{{node fifo_queue_enqueue}}]]\n",
      "\n",
      "Original stack trace for 'fifo_queue_enqueue':\n",
      "  File \"/home/box/anaconda3/envs/DEEPLABCUT/lib/python3.8/runpy.py\", line 194, in _run_module_as_main\n",
      "    return _run_code(code, main_globals, None,\n",
      "  File \"/home/box/anaconda3/envs/DEEPLABCUT/lib/python3.8/runpy.py\", line 87, in _run_code\n",
      "    exec(code, run_globals)\n",
      "  File \"/home/box/anaconda3/envs/DEEPLABCUT/lib/python3.8/site-packages/ipykernel_launcher.py\", line 18, in <module>\n",
      "    app.launch_new_instance()\n",
      "  File \"/home/box/anaconda3/envs/DEEPLABCUT/lib/python3.8/site-packages/traitlets/config/application.py\", line 1075, in launch_instance\n",
      "    app.start()\n",
      "  File \"/home/box/anaconda3/envs/DEEPLABCUT/lib/python3.8/site-packages/ipykernel/kernelapp.py\", line 739, in start\n",
      "    self.io_loop.start()\n",
      "  File \"/home/box/anaconda3/envs/DEEPLABCUT/lib/python3.8/site-packages/tornado/platform/asyncio.py\", line 205, in start\n",
      "    self.asyncio_loop.run_forever()\n",
      "  File \"/home/box/anaconda3/envs/DEEPLABCUT/lib/python3.8/asyncio/base_events.py\", line 570, in run_forever\n",
      "    self._run_once()\n",
      "  File \"/home/box/anaconda3/envs/DEEPLABCUT/lib/python3.8/asyncio/base_events.py\", line 1859, in _run_once\n",
      "    handle._run()\n",
      "  File \"/home/box/anaconda3/envs/DEEPLABCUT/lib/python3.8/asyncio/events.py\", line 81, in _run\n",
      "    self._context.run(self._callback, *self._args)\n",
      "  File \"/home/box/anaconda3/envs/DEEPLABCUT/lib/python3.8/site-packages/ipykernel/kernelbase.py\", line 545, in dispatch_queue\n",
      "    await self.process_one()\n",
      "  File \"/home/box/anaconda3/envs/DEEPLABCUT/lib/python3.8/site-packages/ipykernel/kernelbase.py\", line 534, in process_one\n",
      "    await dispatch(*args)\n",
      "  File \"/home/box/anaconda3/envs/DEEPLABCUT/lib/python3.8/site-packages/ipykernel/kernelbase.py\", line 437, in dispatch_shell\n",
      "    await result\n",
      "  File \"/home/box/anaconda3/envs/DEEPLABCUT/lib/python3.8/site-packages/ipykernel/ipkernel.py\", line 359, in execute_request\n",
      "    await super().execute_request(stream, ident, parent)\n",
      "  File \"/home/box/anaconda3/envs/DEEPLABCUT/lib/python3.8/site-packages/ipykernel/kernelbase.py\", line 778, in execute_request\n",
      "    reply_content = await reply_content\n",
      "  File \"/home/box/anaconda3/envs/DEEPLABCUT/lib/python3.8/site-packages/ipykernel/ipkernel.py\", line 446, in do_execute\n",
      "    res = shell.run_cell(\n",
      "  File \"/home/box/anaconda3/envs/DEEPLABCUT/lib/python3.8/site-packages/ipykernel/zmqshell.py\", line 549, in run_cell\n",
      "    return super().run_cell(*args, **kwargs)\n",
      "  File \"/home/box/anaconda3/envs/DEEPLABCUT/lib/python3.8/site-packages/IPython/core/interactiveshell.py\", line 3009, in run_cell\n",
      "    result = self._run_cell(\n",
      "  File \"/home/box/anaconda3/envs/DEEPLABCUT/lib/python3.8/site-packages/IPython/core/interactiveshell.py\", line 3064, in _run_cell\n",
      "    result = runner(coro)\n",
      "  File \"/home/box/anaconda3/envs/DEEPLABCUT/lib/python3.8/site-packages/IPython/core/async_helpers.py\", line 129, in _pseudo_sync_runner\n",
      "    coro.send(None)\n",
      "  File \"/home/box/anaconda3/envs/DEEPLABCUT/lib/python3.8/site-packages/IPython/core/interactiveshell.py\", line 3269, in run_cell_async\n",
      "    has_raised = await self.run_ast_nodes(code_ast.body, cell_name,\n",
      "  File \"/home/box/anaconda3/envs/DEEPLABCUT/lib/python3.8/site-packages/IPython/core/interactiveshell.py\", line 3448, in run_ast_nodes\n",
      "    if await self.run_code(code, result, async_=asy):\n",
      "  File \"/home/box/anaconda3/envs/DEEPLABCUT/lib/python3.8/site-packages/IPython/core/interactiveshell.py\", line 3508, in run_code\n",
      "    exec(code_obj, self.user_global_ns, self.user_ns)\n",
      "  File \"/tmp/ipykernel_14828/4197938643.py\", line 33, in <module>\n",
      "    deeplabcut.train_network(config_path, shuffle=shuffle, trainingsetindex=trainingsetindex)\n",
      "  File \"/home/box/anaconda3/envs/DEEPLABCUT/lib/python3.8/site-packages/deeplabcut/pose_estimation_tensorflow/training.py\", line 273, in train_network\n",
      "    train(\n",
      "  File \"/home/box/anaconda3/envs/DEEPLABCUT/lib/python3.8/site-packages/deeplabcut/pose_estimation_tensorflow/core/train.py\", line 172, in train\n",
      "    batch, enqueue_op, placeholders = setup_preloading(batch_spec)\n",
      "  File \"/home/box/anaconda3/envs/DEEPLABCUT/lib/python3.8/site-packages/deeplabcut/pose_estimation_tensorflow/core/train.py\", line 72, in setup_preloading\n",
      "    enqueue_op = q.enqueue(placeholders_list)\n",
      "  File \"/home/box/anaconda3/envs/DEEPLABCUT/lib/python3.8/site-packages/tensorflow/python/ops/data_flow_ops.py\", line 346, in enqueue\n",
      "    return gen_data_flow_ops.queue_enqueue_v2(\n",
      "  File \"/home/box/anaconda3/envs/DEEPLABCUT/lib/python3.8/site-packages/tensorflow/python/ops/gen_data_flow_ops.py\", line 4068, in queue_enqueue_v2\n",
      "    _, _, _op, _outputs = _op_def_library._apply_op_helper(\n",
      "  File \"/home/box/anaconda3/envs/DEEPLABCUT/lib/python3.8/site-packages/tensorflow/python/framework/op_def_library.py\", line 795, in _apply_op_helper\n",
      "    op = g._create_op_internal(op_type_name, inputs, dtypes=None,\n",
      "  File \"/home/box/anaconda3/envs/DEEPLABCUT/lib/python3.8/site-packages/tensorflow/python/framework/ops.py\", line 3814, in _create_op_internal\n",
      "    ret = Operation(\n",
      "\n"
     ]
    },
    {
     "name": "stdout",
     "output_type": "stream",
     "text": [
      "The network is now trained and ready to evaluate. Use the function 'evaluate_network' to evaluate the network.\n"
     ]
    }
   ],
   "source": [
    "import deeplabcut\n",
    "config_path = '/home/box/coding/CTIR/Moused_4-David-2024-07-10/config.yaml'\n",
    "shuffle = 1\n",
    "trainingsetindex = 0\n",
    "\n",
    "trainposeconfigfile, testposeconfigfile, snapshotfolder = deeplabcut.return_train_network_path(config_path, shuffle=shuffle, trainingsetindex=trainingsetindex)\n",
    "\n",
    "cfg_dlc = deeplabcut.auxiliaryfunctions.read_plainconfig(trainposeconfigfile)\n",
    "\n",
    "# Updating configuration parameters\n",
    "cfg_dlc['scale_jitter_lo'] = 0.7\n",
    "cfg_dlc['scale_jitter_up'] = 1.5\n",
    "cfg_dlc['augmentationprobability'] = 0.7\n",
    "cfg_dlc['batch_size'] = 2  # Adjust batch size based on your GPU memory\n",
    "cfg_dlc['elastic_transform'] = True\n",
    "cfg_dlc['rotation'] = 180\n",
    "cfg_dlc['covering'] = True\n",
    "cfg_dlc['motion_blur'] = True\n",
    "cfg_dlc['optimizer'] = \"adam\"\n",
    "cfg_dlc['dataset_type'] = 'imgaug'\n",
    "cfg_dlc['lr_init'] = 0.0001  # Adjust this value if needed\n",
    "\n",
    "cfg_dlc['display_iters'] = 100\n",
    "cfg_dlc['save_iters'] = 2000\n",
    "cfg_dlc['max_iters'] = 100000\n",
    "\n",
    "cfg_dlc['multi_step'] = [[0.0001, 5000], [0.0005, 10000]]\n",
    "\n",
    "# Remove conflicting multi_step configuration\n",
    "\n",
    "deeplabcut.auxiliaryfunctions.write_plainconfig(trainposeconfigfile, cfg_dlc)\n",
    "\n",
    "deeplabcut.train_network(config_path, shuffle=shuffle, trainingsetindex=trainingsetindex)"
   ]
  },
  {
   "cell_type": "code",
   "execution_count": 16,
   "metadata": {},
   "outputs": [
    {
     "name": "stderr",
     "output_type": "stream",
     "text": [
      "Config:\n",
      "{'all_joints': [[0],\n",
      "                [1],\n",
      "                [2],\n",
      "                [3],\n",
      "                [4],\n",
      "                [5],\n",
      "                [6],\n",
      "                [7],\n",
      "                [8],\n",
      "                [9],\n",
      "                [10],\n",
      "                [11],\n",
      "                [12],\n",
      "                [13],\n",
      "                [14],\n",
      "                [15],\n",
      "                [16],\n",
      "                [17],\n",
      "                [18],\n",
      "                [19],\n",
      "                [20]],\n",
      " 'all_joints_names': ['nose',\n",
      "                      'eye_left',\n",
      "                      'eye_right',\n",
      "                      'ear_left',\n",
      "                      'ear_right',\n",
      "                      'front_paw_left',\n",
      "                      'front_paw_right',\n",
      "                      'body_center',\n",
      "                      'tail_base',\n",
      "                      'lever_tip',\n",
      "                      'upper_lever_tip',\n",
      "                      'stick_head',\n",
      "                      'ball',\n",
      "                      'sliding_door',\n",
      "                      'sliding_door_top_left',\n",
      "                      'sliding_door_top_right',\n",
      "                      'sliding_door_bottom_left',\n",
      "                      'sliding_door_bottom_right',\n",
      "                      'plateau_middle_front',\n",
      "                      'plateau_middle_back',\n",
      "                      'plateau_right_front'],\n",
      " 'batch_size': 1,\n",
      " 'crop_pad': 0,\n",
      " 'dataset': 'training-datasets/iteration-0/UnaugmentedDataSet_Moused_4Jul10/Moused_4_David90shuffle1.mat',\n",
      " 'dataset_type': 'imgaug',\n",
      " 'deterministic': False,\n",
      " 'fg_fraction': 0.25,\n",
      " 'global_scale': 0.8,\n",
      " 'init_weights': '/home/box/anaconda3/envs/DEEPLABCUT/lib/python3.8/site-packages/deeplabcut/pose_estimation_tensorflow/models/pretrained/resnet_v1_101.ckpt',\n",
      " 'intermediate_supervision': False,\n",
      " 'intermediate_supervision_layer': 12,\n",
      " 'location_refinement': True,\n",
      " 'locref_huber_loss': True,\n",
      " 'locref_loss_weight': 1.0,\n",
      " 'locref_stdev': 7.2801,\n",
      " 'log_dir': 'log',\n",
      " 'mean_pixel': [123.68, 116.779, 103.939],\n",
      " 'mirror': False,\n",
      " 'net_type': 'resnet_101',\n",
      " 'num_joints': 21,\n",
      " 'optimizer': 'sgd',\n",
      " 'pairwise_huber_loss': True,\n",
      " 'pairwise_predict': False,\n",
      " 'partaffinityfield_predict': False,\n",
      " 'regularize': False,\n",
      " 'scoremap_dir': 'test',\n",
      " 'shuffle': True,\n",
      " 'snapshot_prefix': '/home/box/coding/CTIR/Moused_4-David-2024-07-10/dlc-models/iteration-0/Moused_4Jul10-trainset90shuffle1/test/snapshot',\n",
      " 'stride': 8.0,\n",
      " 'weigh_negatives': False,\n",
      " 'weigh_only_present_joints': False,\n",
      " 'weigh_part_predictions': False,\n",
      " 'weight_decay': 0.0001}\n",
      "Config:\n",
      "{'all_joints': [[0],\n",
      "                [1],\n",
      "                [2],\n",
      "                [3],\n",
      "                [4],\n",
      "                [5],\n",
      "                [6],\n",
      "                [7],\n",
      "                [8],\n",
      "                [9],\n",
      "                [10],\n",
      "                [11],\n",
      "                [12],\n",
      "                [13],\n",
      "                [14],\n",
      "                [15],\n",
      "                [16],\n",
      "                [17],\n",
      "                [18],\n",
      "                [19],\n",
      "                [20]],\n",
      " 'all_joints_names': ['nose',\n",
      "                      'eye_left',\n",
      "                      'eye_right',\n",
      "                      'ear_left',\n",
      "                      'ear_right',\n",
      "                      'front_paw_left',\n",
      "                      'front_paw_right',\n",
      "                      'body_center',\n",
      "                      'tail_base',\n",
      "                      'lever_tip',\n",
      "                      'upper_lever_tip',\n",
      "                      'stick_head',\n",
      "                      'ball',\n",
      "                      'sliding_door',\n",
      "                      'sliding_door_top_left',\n",
      "                      'sliding_door_top_right',\n",
      "                      'sliding_door_bottom_left',\n",
      "                      'sliding_door_bottom_right',\n",
      "                      'plateau_middle_front',\n",
      "                      'plateau_middle_back',\n",
      "                      'plateau_right_front'],\n",
      " 'alpha_r': 0.02,\n",
      " 'apply_prob': 0.5,\n",
      " 'augmentationprobability': 0.7,\n",
      " 'batch_size': 2,\n",
      " 'contrast': {'clahe': True,\n",
      "              'claheratio': 0.1,\n",
      "              'histeq': True,\n",
      "              'histeqratio': 0.1},\n",
      " 'convolution': {'edge': False,\n",
      "                 'emboss': {'alpha': [0.0, 1.0], 'strength': [0.5, 1.5]},\n",
      "                 'embossratio': 0.1,\n",
      "                 'sharpen': False,\n",
      "                 'sharpenratio': 0.3},\n",
      " 'covering': True,\n",
      " 'crop_pad': 0,\n",
      " 'cropratio': 0.4,\n",
      " 'dataset': 'training-datasets/iteration-0/UnaugmentedDataSet_Moused_4Jul10/Moused_4_David90shuffle1.mat',\n",
      " 'dataset_type': 'imgaug',\n",
      " 'decay_steps': 30000,\n",
      " 'deterministic': False,\n",
      " 'display_iters': 100,\n",
      " 'elastic_transform': True,\n",
      " 'fg_fraction': 0.25,\n",
      " 'global_scale': 0.8,\n",
      " 'init_weights': '/home/box/anaconda3/envs/DEEPLABCUT/lib/python3.8/site-packages/deeplabcut/pose_estimation_tensorflow/models/pretrained/resnet_v1_101.ckpt',\n",
      " 'intermediate_supervision': False,\n",
      " 'intermediate_supervision_layer': 12,\n",
      " 'location_refinement': True,\n",
      " 'locref_huber_loss': True,\n",
      " 'locref_loss_weight': 0.05,\n",
      " 'locref_stdev': 7.2801,\n",
      " 'log_dir': 'log',\n",
      " 'lr_init': 0.0001,\n",
      " 'max_input_size': 1500,\n",
      " 'max_iters': 100000,\n",
      " 'mean_pixel': [123.68, 116.779, 103.939],\n",
      " 'metadataset': 'training-datasets/iteration-0/UnaugmentedDataSet_Moused_4Jul10/Documentation_data-Moused_4_90shuffle1.pickle',\n",
      " 'min_input_size': 64,\n",
      " 'mirror': False,\n",
      " 'motion_blur': True,\n",
      " 'multi_stage': False,\n",
      " 'multi_step': [[0.0001, 5000], [0.0005, 10000]],\n",
      " 'net_type': 'resnet_101',\n",
      " 'num_joints': 21,\n",
      " 'optimizer': 'adam',\n",
      " 'pairwise_huber_loss': False,\n",
      " 'pairwise_predict': False,\n",
      " 'partaffinityfield_predict': False,\n",
      " 'pos_dist_thresh': 17,\n",
      " 'project_path': '/home/box/coding/CTIR/Moused_4-David-2024-07-10',\n",
      " 'regularize': False,\n",
      " 'rotation': 180,\n",
      " 'rotratio': 0.4,\n",
      " 'save_iters': 2000,\n",
      " 'scale_jitter_lo': 0.7,\n",
      " 'scale_jitter_up': 1.5,\n",
      " 'scoremap_dir': 'test',\n",
      " 'shuffle': True,\n",
      " 'snapshot_prefix': '/home/box/coding/CTIR/Moused_4-David-2024-07-10/dlc-models/iteration-0/Moused_4Jul10-trainset90shuffle1/train/snapshot',\n",
      " 'stride': 8.0,\n",
      " 'weigh_negatives': False,\n",
      " 'weigh_only_present_joints': False,\n",
      " 'weigh_part_predictions': False,\n",
      " 'weight_decay': 0.0001}\n",
      "/home/box/anaconda3/envs/DEEPLABCUT/lib/python3.8/site-packages/tensorflow/python/keras/engine/base_layer_v1.py:1694: UserWarning: `layer.apply` is deprecated and will be removed in a future version. Please use `layer.__call__` method instead.\n",
      "  warnings.warn('`layer.apply` is deprecated and '\n"
     ]
    },
    {
     "name": "stdout",
     "output_type": "stream",
     "text": [
      "Running  DLC_resnet101_Moused_4Jul10shuffle1_10000  with # of training iterations: 10000\n"
     ]
    },
    {
     "name": "stderr",
     "output_type": "stream",
     "text": [
      "2024-07-10 13:41:07.248495: I tensorflow/compiler/xla/stream_executor/cuda/cuda_gpu_executor.cc:982] could not open file to read NUMA node: /sys/bus/pci/devices/0000:02:00.0/numa_node\n",
      "Your kernel may have been built without NUMA support.\n",
      "2024-07-10 13:41:07.248576: I tensorflow/compiler/xla/stream_executor/cuda/cuda_gpu_executor.cc:982] could not open file to read NUMA node: /sys/bus/pci/devices/0000:02:00.0/numa_node\n",
      "Your kernel may have been built without NUMA support.\n",
      "2024-07-10 13:41:07.248590: I tensorflow/compiler/xla/stream_executor/cuda/cuda_gpu_executor.cc:982] could not open file to read NUMA node: /sys/bus/pci/devices/0000:02:00.0/numa_node\n",
      "Your kernel may have been built without NUMA support.\n",
      "2024-07-10 13:41:07.248903: I tensorflow/compiler/xla/stream_executor/cuda/cuda_gpu_executor.cc:982] could not open file to read NUMA node: /sys/bus/pci/devices/0000:02:00.0/numa_node\n",
      "Your kernel may have been built without NUMA support.\n",
      "2024-07-10 13:41:07.248932: I tensorflow/core/common_runtime/gpu/gpu_device.cc:1722] Could not identify NUMA node of platform GPU id 0, defaulting to 0.  Your kernel may not have been built with NUMA support.\n",
      "2024-07-10 13:41:07.248955: I tensorflow/compiler/xla/stream_executor/cuda/cuda_gpu_executor.cc:982] could not open file to read NUMA node: /sys/bus/pci/devices/0000:02:00.0/numa_node\n",
      "Your kernel may have been built without NUMA support.\n",
      "2024-07-10 13:41:07.248968: I tensorflow/core/common_runtime/gpu/gpu_device.cc:1635] Created device /job:localhost/replica:0/task:0/device:GPU:0 with 13297 MB memory:  -> device: 0, name: NVIDIA GeForce RTX 4080 SUPER, pci bus id: 0000:02:00.0, compute capability: 8.9\n"
     ]
    },
    {
     "name": "stdout",
     "output_type": "stream",
     "text": [
      "Running evaluation ...\n"
     ]
    },
    {
     "name": "stderr",
     "output_type": "stream",
     "text": [
      "223it [00:08, 26.13it/s]\n"
     ]
    },
    {
     "name": "stdout",
     "output_type": "stream",
     "text": [
      "Analysis is done and the results are stored (see evaluation-results) for snapshot:  snapshot-10000\n",
      "Results for 10000  training iterations: 90 1 train error: 16.48 pixels. Test error: 25.66  pixels.\n",
      "With pcutoff of 0.6  train error: 6.29 pixels. Test error: 10.61 pixels\n",
      "Thereby, the errors are given by the average distances between the labels by DLC and the scorer.\n",
      "Plotting...\n"
     ]
    },
    {
     "name": "stderr",
     "output_type": "stream",
     "text": [
      "100%|██████████| 223/223 [00:49<00:00,  4.50it/s]"
     ]
    },
    {
     "name": "stdout",
     "output_type": "stream",
     "text": [
      "The network is evaluated and the results are stored in the subdirectory 'evaluation_results'.\n",
      "Please check the results, then choose the best model (snapshot) for prediction. You can update the config.yaml file with the appropriate index for the 'snapshotindex'.\n",
      "Use the function 'analyze_video' to make predictions on new videos.\n",
      "Otherwise, consider adding more labeled-data and retraining the network (see DeepLabCut workflow Fig 2, Nath 2019)\n"
     ]
    },
    {
     "name": "stderr",
     "output_type": "stream",
     "text": [
      "\n"
     ]
    },
    {
     "data": {
      "image/png": "[encoded data removed]",
      "text/plain": [
       "<Figure size 968x608 with 1 Axes>"
      ]
     },
     "metadata": {},
     "output_type": "display_data"
    }
   ],
   "source": [
    "deeplabcut.evaluate_network(config_path,plotting=True)"
   ]
  },
  {
   "cell_type": "code",
   "execution_count": 17,
   "metadata": {},
   "outputs": [],
   "source": [
    "video_path = '/home/box/coding/CTIR/videos/experiment_1/E1_top.avi'\n",
    "video_paths = ['/home/box/coding/CTIR/videos/experiment_1/E1_side.avi','/home/box/coding/CTIR/videos/experiment_1/E1_front.avi','/home/box/coding/CTIR/videos/experiment_1/E1_top.avi',\n",
    "               '/home/box/coding/CTIR/videos/experiment_2/E2_side.avi','/home/box/coding/CTIR/videos/experiment_2/E2_front.avi','/home/box/coding/CTIR/videos/experiment_2/E2_top.avi']"
   ]
  },
  {
   "cell_type": "code",
   "execution_count": 18,
   "metadata": {},
   "outputs": [
    {
     "name": "stderr",
     "output_type": "stream",
     "text": [
      "Config:\n",
      "{'all_joints': [[0],\n",
      "                [1],\n",
      "                [2],\n",
      "                [3],\n",
      "                [4],\n",
      "                [5],\n",
      "                [6],\n",
      "                [7],\n",
      "                [8],\n",
      "                [9],\n",
      "                [10],\n",
      "                [11],\n",
      "                [12],\n",
      "                [13],\n",
      "                [14],\n",
      "                [15],\n",
      "                [16],\n",
      "                [17],\n",
      "                [18],\n",
      "                [19],\n",
      "                [20]],\n",
      " 'all_joints_names': ['nose',\n",
      "                      'eye_left',\n",
      "                      'eye_right',\n",
      "                      'ear_left',\n",
      "                      'ear_right',\n",
      "                      'front_paw_left',\n",
      "                      'front_paw_right',\n",
      "                      'body_center',\n",
      "                      'tail_base',\n",
      "                      'lever_tip',\n",
      "                      'upper_lever_tip',\n",
      "                      'stick_head',\n",
      "                      'ball',\n",
      "                      'sliding_door',\n",
      "                      'sliding_door_top_left',\n",
      "                      'sliding_door_top_right',\n",
      "                      'sliding_door_bottom_left',\n",
      "                      'sliding_door_bottom_right',\n",
      "                      'plateau_middle_front',\n",
      "                      'plateau_middle_back',\n",
      "                      'plateau_right_front'],\n",
      " 'batch_size': 1,\n",
      " 'crop_pad': 0,\n",
      " 'dataset': 'training-datasets/iteration-0/UnaugmentedDataSet_Moused_4Jul10/Moused_4_David90shuffle1.mat',\n",
      " 'dataset_type': 'imgaug',\n",
      " 'deterministic': False,\n",
      " 'fg_fraction': 0.25,\n",
      " 'global_scale': 0.8,\n",
      " 'init_weights': '/home/box/anaconda3/envs/DEEPLABCUT/lib/python3.8/site-packages/deeplabcut/pose_estimation_tensorflow/models/pretrained/resnet_v1_101.ckpt',\n",
      " 'intermediate_supervision': False,\n",
      " 'intermediate_supervision_layer': 12,\n",
      " 'location_refinement': True,\n",
      " 'locref_huber_loss': True,\n",
      " 'locref_loss_weight': 1.0,\n",
      " 'locref_stdev': 7.2801,\n",
      " 'log_dir': 'log',\n",
      " 'mean_pixel': [123.68, 116.779, 103.939],\n",
      " 'mirror': False,\n",
      " 'net_type': 'resnet_101',\n",
      " 'num_joints': 21,\n",
      " 'optimizer': 'sgd',\n",
      " 'pairwise_huber_loss': True,\n",
      " 'pairwise_predict': False,\n",
      " 'partaffinityfield_predict': False,\n",
      " 'regularize': False,\n",
      " 'scoremap_dir': 'test',\n",
      " 'shuffle': True,\n",
      " 'snapshot_prefix': '/home/box/coding/CTIR/Moused_4-David-2024-07-10/dlc-models/iteration-0/Moused_4Jul10-trainset90shuffle1/test/snapshot',\n",
      " 'stride': 8.0,\n",
      " 'weigh_negatives': False,\n",
      " 'weigh_only_present_joints': False,\n",
      " 'weigh_part_predictions': False,\n",
      " 'weight_decay': 0.0001}\n",
      "/home/box/anaconda3/envs/DEEPLABCUT/lib/python3.8/site-packages/tensorflow/python/keras/engine/base_layer_v1.py:1694: UserWarning: `layer.apply` is deprecated and will be removed in a future version. Please use `layer.__call__` method instead.\n",
      "  warnings.warn('`layer.apply` is deprecated and '\n"
     ]
    },
    {
     "name": "stdout",
     "output_type": "stream",
     "text": [
      "Using snapshot-10000 for model /home/box/coding/CTIR/Moused_4-David-2024-07-10/dlc-models/iteration-0/Moused_4Jul10-trainset90shuffle1\n"
     ]
    },
    {
     "name": "stderr",
     "output_type": "stream",
     "text": [
      "2024-07-10 13:42:10.071384: I tensorflow/compiler/xla/stream_executor/cuda/cuda_gpu_executor.cc:982] could not open file to read NUMA node: /sys/bus/pci/devices/0000:02:00.0/numa_node\n",
      "Your kernel may have been built without NUMA support.\n",
      "2024-07-10 13:42:10.071461: I tensorflow/compiler/xla/stream_executor/cuda/cuda_gpu_executor.cc:982] could not open file to read NUMA node: /sys/bus/pci/devices/0000:02:00.0/numa_node\n",
      "Your kernel may have been built without NUMA support.\n",
      "2024-07-10 13:42:10.071474: I tensorflow/compiler/xla/stream_executor/cuda/cuda_gpu_executor.cc:982] could not open file to read NUMA node: /sys/bus/pci/devices/0000:02:00.0/numa_node\n",
      "Your kernel may have been built without NUMA support.\n",
      "2024-07-10 13:42:10.071803: I tensorflow/compiler/xla/stream_executor/cuda/cuda_gpu_executor.cc:982] could not open file to read NUMA node: /sys/bus/pci/devices/0000:02:00.0/numa_node\n",
      "Your kernel may have been built without NUMA support.\n",
      "2024-07-10 13:42:10.071863: I tensorflow/core/common_runtime/gpu/gpu_device.cc:1722] Could not identify NUMA node of platform GPU id 0, defaulting to 0.  Your kernel may not have been built with NUMA support.\n",
      "2024-07-10 13:42:10.071887: I tensorflow/compiler/xla/stream_executor/cuda/cuda_gpu_executor.cc:982] could not open file to read NUMA node: /sys/bus/pci/devices/0000:02:00.0/numa_node\n",
      "Your kernel may have been built without NUMA support.\n",
      "2024-07-10 13:42:10.071899: I tensorflow/core/common_runtime/gpu/gpu_device.cc:1635] Created device /job:localhost/replica:0/task:0/device:GPU:0 with 13297 MB memory:  -> device: 0, name: NVIDIA GeForce RTX 4080 SUPER, pci bus id: 0000:02:00.0, compute capability: 8.9\n"
     ]
    },
    {
     "name": "stdout",
     "output_type": "stream",
     "text": [
      "Starting to analyze %  /home/box/coding/CTIR/videos/experiment_1/E1_side.avi\n",
      "Loading  /home/box/coding/CTIR/videos/experiment_1/E1_side.avi\n",
      "Duration of video [s]:  555.0 , recorded with  30.0 fps!\n",
      "Overall # of frames:  16650  found with (before cropping) frame dimensions:  968 608\n",
      "Starting to extract posture\n"
     ]
    },
    {
     "name": "stderr",
     "output_type": "stream",
     "text": [
      "100%|██████████| 16650/16650 [04:03<00:00, 68.52it/s]\n"
     ]
    },
    {
     "name": "stdout",
     "output_type": "stream",
     "text": [
      "Saving results in /home/box/coding/CTIR/videos/experiment_1...\n",
      "Starting to analyze %  /home/box/coding/CTIR/videos/experiment_1/E1_front.avi\n",
      "Loading  /home/box/coding/CTIR/videos/experiment_1/E1_front.avi\n",
      "Duration of video [s]:  555.0 , recorded with  30.0 fps!\n",
      "Overall # of frames:  16650  found with (before cropping) frame dimensions:  968 608\n",
      "Starting to extract posture\n"
     ]
    },
    {
     "name": "stderr",
     "output_type": "stream",
     "text": [
      "100%|██████████| 16650/16650 [04:01<00:00, 68.84it/s]\n"
     ]
    },
    {
     "name": "stdout",
     "output_type": "stream",
     "text": [
      "Saving results in /home/box/coding/CTIR/videos/experiment_1...\n",
      "Starting to analyze %  /home/box/coding/CTIR/videos/experiment_1/E1_top.avi\n",
      "Loading  /home/box/coding/CTIR/videos/experiment_1/E1_top.avi\n",
      "Duration of video [s]:  555.0 , recorded with  30.0 fps!\n",
      "Overall # of frames:  16650  found with (before cropping) frame dimensions:  968 608\n",
      "Starting to extract posture\n"
     ]
    },
    {
     "name": "stderr",
     "output_type": "stream",
     "text": [
      "100%|██████████| 16650/16650 [04:05<00:00, 67.80it/s]\n"
     ]
    },
    {
     "name": "stdout",
     "output_type": "stream",
     "text": [
      "Saving results in /home/box/coding/CTIR/videos/experiment_1...\n",
      "Starting to analyze %  /home/box/coding/CTIR/videos/experiment_2/E2_side.avi\n",
      "Loading  /home/box/coding/CTIR/videos/experiment_2/E2_side.avi\n",
      "Duration of video [s]:  645.0 , recorded with  30.0 fps!\n",
      "Overall # of frames:  19350  found with (before cropping) frame dimensions:  968 608\n",
      "Starting to extract posture\n"
     ]
    },
    {
     "name": "stderr",
     "output_type": "stream",
     "text": [
      "100%|██████████| 19350/19350 [04:41<00:00, 68.64it/s]\n"
     ]
    },
    {
     "name": "stdout",
     "output_type": "stream",
     "text": [
      "Saving results in /home/box/coding/CTIR/videos/experiment_2...\n",
      "Starting to analyze %  /home/box/coding/CTIR/videos/experiment_2/E2_front.avi\n",
      "Loading  /home/box/coding/CTIR/videos/experiment_2/E2_front.avi\n",
      "Duration of video [s]:  645.0 , recorded with  30.0 fps!\n",
      "Overall # of frames:  19350  found with (before cropping) frame dimensions:  968 608\n",
      "Starting to extract posture\n"
     ]
    },
    {
     "name": "stderr",
     "output_type": "stream",
     "text": [
      "100%|██████████| 19350/19350 [04:39<00:00, 69.13it/s]\n"
     ]
    },
    {
     "name": "stdout",
     "output_type": "stream",
     "text": [
      "Saving results in /home/box/coding/CTIR/videos/experiment_2...\n",
      "Starting to analyze %  /home/box/coding/CTIR/videos/experiment_2/E2_top.avi\n",
      "Loading  /home/box/coding/CTIR/videos/experiment_2/E2_top.avi\n",
      "Duration of video [s]:  645.0 , recorded with  30.0 fps!\n",
      "Overall # of frames:  19350  found with (before cropping) frame dimensions:  968 608\n",
      "Starting to extract posture\n"
     ]
    },
    {
     "name": "stderr",
     "output_type": "stream",
     "text": [
      "100%|██████████| 19350/19350 [04:39<00:00, 69.16it/s]"
     ]
    },
    {
     "name": "stdout",
     "output_type": "stream",
     "text": [
      "Saving results in /home/box/coding/CTIR/videos/experiment_2...\n",
      "The videos are analyzed. Now your research can truly start! \n",
      " You can create labeled videos with 'create_labeled_video'\n",
      "If the tracking is not satisfactory for some videos, consider expanding the training set. You can use the function 'extract_outlier_frames' to extract a few representative outlier frames.\n"
     ]
    },
    {
     "name": "stderr",
     "output_type": "stream",
     "text": [
      "\n"
     ]
    },
    {
     "name": "stdout",
     "output_type": "stream",
     "text": [
      "Starting to process video: /home/box/coding/CTIR/videos/experiment_1/E1_front.aviStarting to process video: /home/box/coding/CTIR/videos/experiment_1/E1_top.aviStarting to process video: /home/box/coding/CTIR/videos/experiment_1/E1_side.aviStarting to process video: /home/box/coding/CTIR/videos/experiment_2/E2_side.aviStarting to process video: /home/box/coding/CTIR/videos/experiment_2/E2_front.aviStarting to process video: /home/box/coding/CTIR/videos/experiment_2/E2_top.avi\n",
      "\n",
      "\n",
      "\n",
      "\n",
      "\n",
      "Loading /home/box/coding/CTIR/videos/experiment_1/E1_top.avi and data.Loading /home/box/coding/CTIR/videos/experiment_1/E1_front.avi and data.Loading /home/box/coding/CTIR/videos/experiment_2/E2_front.avi and data.Loading /home/box/coding/CTIR/videos/experiment_2/E2_side.avi and data.Loading /home/box/coding/CTIR/videos/experiment_2/E2_top.avi and data.\n",
      "Loading /home/box/coding/CTIR/videos/experiment_1/E1_side.avi and data.\n",
      "\n",
      "\n",
      "\n",
      "\n",
      "Duration of video [s]: 555.0, recorded with 30.0 fps!Duration of video [s]: 645.0, recorded with 30.0 fps!\n",
      "\n",
      "Overall # of frames: 16650 with cropped frame dimensions: 968 608Overall # of frames: 19350 with cropped frame dimensions: 968 608\n",
      "\n",
      "Generating frames and creating video.Generating frames and creating video.\n",
      "\n",
      "Duration of video [s]: 645.0, recorded with 30.0 fps!Duration of video [s]: 555.0, recorded with 30.0 fps!Duration of video [s]: 555.0, recorded with 30.0 fps!\n"
     ]
    },
    {
     "name": "stderr",
     "output_type": "stream",
     "text": [
      "  0%|          | 0/16650 [00:00<?, ?it/s]"
     ]
    },
    {
     "name": "stdout",
     "output_type": "stream",
     "text": [
      "\n",
      "\n",
      "Overall # of frames: 19350 with cropped frame dimensions: 968 608Overall # of frames: 16650 with cropped frame dimensions: 968 608Overall # of frames: 16650 with cropped frame dimensions: 968 608"
     ]
    },
    {
     "name": "stderr",
     "output_type": "stream",
     "text": [
      "  0%|          | 0/19350 [00:00<?, ?it/s]"
     ]
    },
    {
     "name": "stdout",
     "output_type": "stream",
     "text": [
      "\n",
      "\n",
      "\n",
      "Generating frames and creating video.Generating frames and creating video.Generating frames and creating video.\n",
      "\n",
      "\n"
     ]
    },
    {
     "name": "stderr",
     "output_type": "stream",
     "text": [
      "  0%|          | 0/16650 [00:00<?, ?it/s]"
     ]
    },
    {
     "name": "stdout",
     "output_type": "stream",
     "text": [
      "Duration of video [s]: 645.0, recorded with 30.0 fps!\n",
      "Overall # of frames: 19350 with cropped frame dimensions: 968 608\n",
      "Generating frames and creating video.\n"
     ]
    },
    {
     "name": "stderr",
     "output_type": "stream",
     "text": [
      "100%|██████████| 16650/16650 [02:25<00:00, 114.33it/s]\n",
      "100%|██████████| 16650/16650 [02:26<00:00, 113.89it/s]\n",
      "100%|██████████| 16650/16650 [02:28<00:00, 111.81it/s]\n",
      "100%|██████████| 19350/19350 [02:40<00:00, 120.48it/s]\n",
      "100%|██████████| 19350/19350 [02:41<00:00, 119.59it/s]\n",
      "100%|██████████| 19350/19350 [02:42<00:00, 119.03it/s]\n"
     ]
    },
    {
     "data": {
      "text/plain": [
       "[True, True, True, True, True, True]"
      ]
     },
     "execution_count": 18,
     "metadata": {},
     "output_type": "execute_result"
    }
   ],
   "source": [
    "deeplabcut.analyze_videos(config_path,video_paths)\n",
    "deeplabcut.create_labeled_video(config_path,video_paths)"
   ]
  },
  {
   "cell_type": "code",
   "execution_count": null,
   "metadata": {},
   "outputs": [],
   "source": []
  },
  {
   "cell_type": "code",
   "execution_count": null,
   "metadata": {},
   "outputs": [],
   "source": []
  },
  {
   "cell_type": "code",
   "execution_count": null,
   "metadata": {},
   "outputs": [],
   "source": []
  }
 ],
 "metadata": {
  "kernelspec": {
   "display_name": "DEEPLABCUT",
   "language": "python",
   "name": "python3"
  },
  "language_info": {
   "codemirror_mode": {
    "name": "ipython",
    "version": 3
   },
   "file_extension": ".py",
   "mimetype": "text/x-python",
   "name": "python",
   "nbconvert_exporter": "python",
   "pygments_lexer": "ipython3",
   "version": "3.8.19"
  }
 },
 "nbformat": 4,
 "nbformat_minor": 2
}
